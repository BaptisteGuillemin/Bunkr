{
  "nbformat": 4,
  "nbformat_minor": 0,
  "metadata": {
    "colab": {
      "name": "fec_file_from_json_to_csv",
      "provenance": [],
      "collapsed_sections": []
    },
    "kernelspec": {
      "name": "python3",
      "display_name": "Python 3"
    },
    "language_info": {
      "name": "python"
    }
  },
  "cells": [
    {
      "cell_type": "code",
      "metadata": {
        "id": "o4nmBMIURD8R"
      },
      "source": [
        "def BUNQRINV(facture):\n",
        "  # Importing Modules\n",
        "  import json\n",
        "  import csv\n",
        "  #Opening Json File\n",
        "  with open(facture, \"r\") as invoice:\n",
        "    data_json = json.load(invoice)\n",
        "  # Filter Subset\n",
        "  json_invoice_data = data_json[\"data\"]\n",
        "  json_invoice_data_parsed = json_invoice_data[\"parsed\"]\n",
        "  # FEC File Outputs\n",
        "  outputs = [\"invoice_type\",\"date\",\"merchant_name\", \"order_number\", \"purchasedate\", \"amount_incl_vat\",\n",
        "             \"amountexvat\", \"personal_income_tax_rate\", \"vatamount\", \"amount\", \"currency\"]\n",
        "  dict_fec = {}\n",
        "  for i in outputs:\n",
        "    if i in json_invoice_data_parsed:\n",
        "      dict_fec[i] = json_invoice_data_parsed[i]\n",
        "  # Converting JSON to CSV\n",
        "  with open(\"json_to_csv.csv\",\"w\") as outfile:\n",
        "    ofile = csv.writer(outfile)\n",
        "    ofile.writerow(['JournalCode',\t'JournalLib',\t'EcritureNum',\t'EcritureDate',\t'CompteNum',\t'CompteLib',\t'CompAuxNum',\t'CompAuxLib',\t'PieceRef',\n",
        "                    'PieceDate',\t'EcritureLib',\t'Debit',\t'Credit',\t'EcritureLet',\t'DateLet',\t'ValidDate',\t'MontantDevise', 'Devise'])\n",
        "\n",
        "    with open(\"json_to_csv.csv\",\"a\") as outfile:\n",
        "     ofile.writerow([\n",
        "              'AC',\n",
        "              'ACHATS',\n",
        "              '',\n",
        "              dict_fec['date'][0:10],\n",
        "              '401000',\n",
        "              'Fournisseurs',\n",
        "              '401'+ dict_fec['merchant_name'][0:5],\n",
        "              dict_fec['merchant_name'],\n",
        "              dict_fec['order_number'],\n",
        "              dict_fec['purchasedate'],\n",
        "              dict_fec['merchant_name'],\n",
        "              '0',\n",
        "              dict_fec['amount']/100, \n",
        "              '', \n",
        "              '',\n",
        "              '',\n",
        "              dict_fec[ 'amount']/100,\n",
        "              dict_fec['currency']])\n",
        "     ofile.writerow([\n",
        "              'AC',\n",
        "              'ACHATS',\n",
        "              '',\n",
        "              dict_fec['date'][0:10],\n",
        "              '',\n",
        "              'Other',\n",
        "              '',\n",
        "              '',\n",
        "              dict_fec['order_number'],\n",
        "              dict_fec['purchasedate'],\n",
        "              dict_fec['merchant_name'],\n",
        "              dict_fec['amountexvat']/100,\n",
        "              '0',\n",
        "              '',\n",
        "              '',\n",
        "              '',\n",
        "              dict_fec['amountexvat']/100,\n",
        "              dict_fec['currency']])\n",
        "     ofile.writerow([\n",
        "              'AC',\n",
        "              'ACHATS',\n",
        "              '',\n",
        "              dict_fec['date'][0:10],\n",
        "              '445660',\n",
        "              'TVA sur autres biens et services',\n",
        "              '',\n",
        "              '',\n",
        "              dict_fec['order_number'],\n",
        "              dict_fec['purchasedate'],\n",
        "              dict_fec['merchant_name'],\n",
        "              dict_fec['vatamount']/100,\n",
        "              '0',\n",
        "              '',\n",
        "              '',\n",
        "              '',\n",
        "              dict_fec['vatamount']/100,\n",
        "              dict_fec['currency']])"
      ],
      "execution_count": null,
      "outputs": []
    },
    {
      "cell_type": "code",
      "metadata": {
        "id": "lhafTrJYSOyz"
      },
      "source": [
        "BUNQRINV(\"Image d’iOS (5).json\")"
      ],
      "execution_count": null,
      "outputs": []
    },
    {
      "cell_type": "code",
      "source": [
        ""
      ],
      "metadata": {
        "id": "xaTY15QpiPs6"
      },
      "execution_count": null,
      "outputs": []
    }
  ]
}